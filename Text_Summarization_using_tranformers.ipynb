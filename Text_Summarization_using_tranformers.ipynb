{
  "nbformat": 4,
  "nbformat_minor": 0,
  "metadata": {
    "colab": {
      "provenance": [],
      "authorship_tag": "ABX9TyPzkZzKVU9m9s/gYnp2WAxK",
      "include_colab_link": true
    },
    "kernelspec": {
      "name": "python3",
      "display_name": "Python 3"
    },
    "language_info": {
      "name": "python"
    }
  },
  "cells": [
    {
      "cell_type": "markdown",
      "metadata": {
        "id": "view-in-github",
        "colab_type": "text"
      },
      "source": [
        "<a href=\"https://colab.research.google.com/github/robitussin/Program-Synthesis/blob/main/Text_Summarization_using_tranformers.ipynb\" target=\"_parent\"><img src=\"https://colab.research.google.com/assets/colab-badge.svg\" alt=\"Open In Colab\"/></a>"
      ]
    },
    {
      "cell_type": "code",
      "source": [
        "from google.colab import drive\n",
        "drive.mount('/content/drive/')"
      ],
      "metadata": {
        "colab": {
          "base_uri": "https://localhost:8080/"
        },
        "id": "S3_ySz7OE0Ui",
        "outputId": "707e97ab-6647-4987-c951-52523e550064"
      },
      "execution_count": null,
      "outputs": [
        {
          "output_type": "stream",
          "name": "stdout",
          "text": [
            "Drive already mounted at /content/drive/; to attempt to forcibly remount, call drive.mount(\"/content/drive/\", force_remount=True).\n"
          ]
        }
      ]
    },
    {
      "cell_type": "code",
      "source": [
        "#f = open('/content/drive/MyDrive/datasets/textfiles/sachin.txt','r',encoding='latin1')\n",
        "f = open('/content/drive/MyDrive/datasets/textfiles/mocha.txt','r',encoding='latin1')\n",
        "\n",
        "f1 = f.readlines()\n",
        "contents = []\n",
        "for line in f1: \n",
        "  contents.append(line)\n",
        "  \n",
        "print(contents)"
      ],
      "metadata": {
        "colab": {
          "base_uri": "https://localhost:8080/"
        },
        "id": "UXzocokjE1NB",
        "outputId": "b9c229d2-b3e6-4462-cc01-8f7495ddddd2"
      },
      "execution_count": null,
      "outputs": [
        {
          "output_type": "stream",
          "name": "stdout",
          "text": [
            "['Mocha is a young girl from high school . She has\\n', 'learned so much interesting knowledge from her\\n', 'teachers , especially her math teacher . Recently ,\\n', 'Mocha is learning about binary system and very\\n', 'interested in bitwise operation .\\n', 'This day , Mocha got a sequence a of length n. In each\\n', 'operation , she can select an arbitrary interval [l,\\n', 'r] and for all values i (0 <= i <= r-l), replace a_{l+\\n', 'i} with a_{l+i} \\\\& a_{r-i} at the same time , where\\n', '\\\\& denotes the [ bitwise AND operation ]( https :// en.\\n', 'wikipedia . org/ wiki / Bitwise_operation # AND ). This\\n', 'operation can be performed any number of times .\\n', 'For example , if n=5, the array is [a_1 ,a_2 ,a_3 ,a_4 ,\\n', 'a_5 ], and Mocha selects the interval [2 ,5] , then the\\n', 'new array is [a_1 , a_2 \\\\& a_5 , a_3 \\\\& a_4 , a_4 \\\\&\\n', 'a_3 , a_5 \\\\& a_2 ].\\n', 'Now Mocha wants to minimize the maximum value in the\\n', 'sequence . As her best friend , can you help her to get\\n', 'the answer ?']\n"
          ]
        }
      ]
    },
    {
      "cell_type": "code",
      "source": [
        "text = ' '.join([str(elem) for elem in contents])"
      ],
      "metadata": {
        "id": "SlKKsooqGomV"
      },
      "execution_count": null,
      "outputs": []
    },
    {
      "cell_type": "code",
      "source": [
        "text=text.replace(\"x91\",\"'\")\n",
        "text=text.replace(\"x92\",\"'\")\n",
        "text"
      ],
      "metadata": {
        "colab": {
          "base_uri": "https://localhost:8080/",
          "height": 73
        },
        "id": "ywBrRDf1GqFX",
        "outputId": "a4541de6-48c8-4a4a-c70f-bfb2eb3f7100"
      },
      "execution_count": null,
      "outputs": [
        {
          "output_type": "execute_result",
          "data": {
            "text/plain": [
              "'Mocha is a young girl from high school . She has\\n learned so much interesting knowledge from her\\n teachers , especially her math teacher . Recently ,\\n Mocha is learning about binary system and very\\n interested in bitwise operation .\\n This day , Mocha got a sequence a of length n. In each\\n operation , she can select an arbitrary interval [l,\\n r] and for all values i (0 <= i <= r-l), replace a_{l+\\n i} with a_{l+i} \\\\& a_{r-i} at the same time , where\\n \\\\& denotes the [ bitwise AND operation ]( https :// en.\\n wikipedia . org/ wiki / Bitwise_operation # AND ). This\\n operation can be performed any number of times .\\n For example , if n=5, the array is [a_1 ,a_2 ,a_3 ,a_4 ,\\n a_5 ], and Mocha selects the interval [2 ,5] , then the\\n new array is [a_1 , a_2 \\\\& a_5 , a_3 \\\\& a_4 , a_4 \\\\&\\n a_3 , a_5 \\\\& a_2 ].\\n Now Mocha wants to minimize the maximum value in the\\n sequence . As her best friend , can you help her to get\\n the answer ?'"
            ],
            "application/vnd.google.colaboratory.intrinsic+json": {
              "type": "string"
            }
          },
          "metadata": {},
          "execution_count": 110
        }
      ]
    },
    {
      "cell_type": "code",
      "source": [
        "len(text)"
      ],
      "metadata": {
        "colab": {
          "base_uri": "https://localhost:8080/"
        },
        "id": "xgw2pHVOGs_9",
        "outputId": "f7072ec5-137c-4cf9-caef-35ca45c4dbd2"
      },
      "execution_count": null,
      "outputs": [
        {
          "output_type": "execute_result",
          "data": {
            "text/plain": [
              "930"
            ]
          },
          "metadata": {},
          "execution_count": 111
        }
      ]
    },
    {
      "cell_type": "code",
      "source": [
        "f=len(text.split())\n",
        "\n",
        "print (\"The number of words in the given text is : \" +  str(f))"
      ],
      "metadata": {
        "colab": {
          "base_uri": "https://localhost:8080/"
        },
        "id": "6ViAZWzeG1Iq",
        "outputId": "4e5cb1b5-e165-4e2d-bb4d-eeb2a3400519"
      },
      "execution_count": null,
      "outputs": [
        {
          "output_type": "stream",
          "name": "stdout",
          "text": [
            "The number of words in the given text is : 188\n"
          ]
        }
      ]
    },
    {
      "cell_type": "code",
      "source": [
        "import spacy\n",
        "from spacy.lang.en.stop_words import STOP_WORDS\n",
        "from string import punctuation"
      ],
      "metadata": {
        "id": "EWVdAq6eG4Vx"
      },
      "execution_count": null,
      "outputs": []
    },
    {
      "cell_type": "code",
      "source": [
        "nlp = spacy.load(\"en_core_web_sm\")"
      ],
      "metadata": {
        "id": "K-2Wo3LfG5tx"
      },
      "execution_count": null,
      "outputs": []
    },
    {
      "cell_type": "code",
      "source": [
        "doc=nlp(text)"
      ],
      "metadata": {
        "id": "mRcS6vUGG8Ps"
      },
      "execution_count": null,
      "outputs": []
    },
    {
      "cell_type": "code",
      "source": [
        "tokens = [token.text for token in doc]\n",
        "print(tokens)"
      ],
      "metadata": {
        "colab": {
          "base_uri": "https://localhost:8080/"
        },
        "id": "Qx7jhIUUG9Du",
        "outputId": "eb8de6bb-1470-4915-9611-4cdf696cf53b"
      },
      "execution_count": null,
      "outputs": [
        {
          "output_type": "stream",
          "name": "stdout",
          "text": [
            "['Mocha', 'is', 'a', 'young', 'girl', 'from', 'high', 'school', '.', 'She', 'has', '\\n ', 'learned', 'so', 'much', 'interesting', 'knowledge', 'from', 'her', '\\n ', 'teachers', ',', 'especially', 'her', 'math', 'teacher', '.', 'Recently', ',', '\\n ', 'Mocha', 'is', 'learning', 'about', 'binary', 'system', 'and', 'very', '\\n ', 'interested', 'in', 'bitwise', 'operation', '.', '\\n ', 'This', 'day', ',', 'Mocha', 'got', 'a', 'sequence', 'a', 'of', 'length', 'n.', 'In', 'each', '\\n ', 'operation', ',', 'she', 'can', 'select', 'an', 'arbitrary', 'interval', '[', 'l', ',', '\\n ', 'r', ']', 'and', 'for', 'all', 'values', 'i', '(', '0', '<', '=', 'i', '<', '=', 'r', '-', 'l', ')', ',', 'replace', 'a_{l+', '\\n ', 'i', '}', 'with', 'a_{l+i', '}', '\\\\', '&', 'a_{r', '-', 'i', '}', 'at', 'the', 'same', 'time', ',', 'where', '\\n ', '\\\\', '&', 'denotes', 'the', '[', 'bitwise', 'AND', 'operation', ']', '(', 'https', ':', '//', 'en', '.', '\\n ', 'wikipedia', '.', 'org/', 'wiki', '/', 'Bitwise_operation', '#', 'AND', ')', '.', 'This', '\\n ', 'operation', 'can', 'be', 'performed', 'any', 'number', 'of', 'times', '.', '\\n ', 'For', 'example', ',', 'if', 'n=5', ',', 'the', 'array', 'is', '[', 'a_1', ',', 'a_2', ',', 'a_3', ',', 'a_4', ',', '\\n ', 'a_5', ']', ',', 'and', 'Mocha', 'selects', 'the', 'interval', '[', '2', ',', '5', ']', ',', 'then', 'the', '\\n ', 'new', 'array', 'is', '[', 'a_1', ',', 'a_2', '\\\\', '&', 'a_5', ',', 'a_3', '\\\\', '&', 'a_4', ',', 'a_4', '\\\\', '&', '\\n ', 'a_3', ',', 'a_5', '\\\\', '&', 'a_2', ']', '.', '\\n ', 'Now', 'Mocha', 'wants', 'to', 'minimize', 'the', 'maximum', 'value', 'in', 'the', '\\n ', 'sequence', '.', 'As', 'her', 'best', 'friend', ',', 'can', 'you', 'help', 'her', 'to', 'get', '\\n ', 'the', 'answer', '?']\n"
          ]
        }
      ]
    },
    {
      "cell_type": "code",
      "source": [
        "punctuation = punctuation + 'n'"
      ],
      "metadata": {
        "id": "kM17xeLQHEnS"
      },
      "execution_count": null,
      "outputs": []
    },
    {
      "cell_type": "code",
      "source": [
        "word_freq = {}"
      ],
      "metadata": {
        "id": "-ODoKU_VHJSj"
      },
      "execution_count": null,
      "outputs": []
    },
    {
      "cell_type": "code",
      "source": [
        "stop_words = list(STOP_WORDS)"
      ],
      "metadata": {
        "id": "sT4CCNowHLFW"
      },
      "execution_count": null,
      "outputs": []
    },
    {
      "cell_type": "code",
      "source": [
        "for word in doc:\n",
        "   if word.text.lower() not in stop_words:\n",
        "     if word.text.lower() not in punctuation:\n",
        "       if word.text not in word_freq.keys():\n",
        "         word_freq[word.text]= 1\n",
        "       else:\n",
        "         word_freq[word.text]+= 1 \n",
        "print(word_freq)"
      ],
      "metadata": {
        "colab": {
          "base_uri": "https://localhost:8080/"
        },
        "id": "T-CFeuRgHMXk",
        "outputId": "a101e5f6-f7be-4b36-8c1b-3e2fd132ec01"
      },
      "execution_count": null,
      "outputs": [
        {
          "output_type": "stream",
          "name": "stdout",
          "text": [
            "{'Mocha': 5, 'young': 1, 'girl': 1, 'high': 1, 'school': 1, '\\n ': 18, 'learned': 1, 'interesting': 1, 'knowledge': 1, 'teachers': 1, 'especially': 1, 'math': 1, 'teacher': 1, 'Recently': 1, 'learning': 1, 'binary': 1, 'system': 1, 'interested': 1, 'bitwise': 2, 'operation': 4, 'day': 1, 'got': 1, 'sequence': 2, 'length': 1, 'n.': 1, 'select': 1, 'arbitrary': 1, 'interval': 2, 'l': 2, 'r': 2, 'values': 1, '0': 1, 'replace': 1, 'a_{l+': 1, 'a_{l+i': 1, 'a_{r': 1, 'time': 1, 'denotes': 1, 'https': 1, '//': 1, 'en': 1, 'wikipedia': 1, 'org/': 1, 'wiki': 1, 'Bitwise_operation': 1, 'performed': 1, 'number': 1, 'times': 1, 'example': 1, 'n=5': 1, 'array': 2, 'a_1': 2, 'a_2': 3, 'a_3': 3, 'a_4': 3, 'a_5': 3, 'selects': 1, '2': 1, '5': 1, 'new': 1, 'wants': 1, 'minimize': 1, 'maximum': 1, 'value': 1, 'best': 1, 'friend': 1, 'help': 1, 'answer': 1}\n"
          ]
        }
      ]
    },
    {
      "cell_type": "code",
      "source": [
        "x= (word_freq.values())\n",
        "a = list(x)\n",
        "a.sort()\n",
        "max_freq=a[-1]\n",
        "max_freq"
      ],
      "metadata": {
        "colab": {
          "base_uri": "https://localhost:8080/"
        },
        "id": "aMCWMdGIHP_m",
        "outputId": "4a745430-96d3-40af-ff28-8514b23c2cad"
      },
      "execution_count": null,
      "outputs": [
        {
          "output_type": "execute_result",
          "data": {
            "text/plain": [
              "18"
            ]
          },
          "metadata": {},
          "execution_count": 121
        }
      ]
    },
    {
      "cell_type": "code",
      "source": [
        "for word in word_freq.keys():\n",
        "   word_freq[word] = word_freq[word]/max_freq \n",
        "print(word_freq)"
      ],
      "metadata": {
        "colab": {
          "base_uri": "https://localhost:8080/"
        },
        "id": "kjkw8smBHTB2",
        "outputId": "f2644c00-c75d-4b04-be97-5faf70aff1af"
      },
      "execution_count": null,
      "outputs": [
        {
          "output_type": "stream",
          "name": "stdout",
          "text": [
            "{'Mocha': 0.2777777777777778, 'young': 0.05555555555555555, 'girl': 0.05555555555555555, 'high': 0.05555555555555555, 'school': 0.05555555555555555, '\\n ': 1.0, 'learned': 0.05555555555555555, 'interesting': 0.05555555555555555, 'knowledge': 0.05555555555555555, 'teachers': 0.05555555555555555, 'especially': 0.05555555555555555, 'math': 0.05555555555555555, 'teacher': 0.05555555555555555, 'Recently': 0.05555555555555555, 'learning': 0.05555555555555555, 'binary': 0.05555555555555555, 'system': 0.05555555555555555, 'interested': 0.05555555555555555, 'bitwise': 0.1111111111111111, 'operation': 0.2222222222222222, 'day': 0.05555555555555555, 'got': 0.05555555555555555, 'sequence': 0.1111111111111111, 'length': 0.05555555555555555, 'n.': 0.05555555555555555, 'select': 0.05555555555555555, 'arbitrary': 0.05555555555555555, 'interval': 0.1111111111111111, 'l': 0.1111111111111111, 'r': 0.1111111111111111, 'values': 0.05555555555555555, '0': 0.05555555555555555, 'replace': 0.05555555555555555, 'a_{l+': 0.05555555555555555, 'a_{l+i': 0.05555555555555555, 'a_{r': 0.05555555555555555, 'time': 0.05555555555555555, 'denotes': 0.05555555555555555, 'https': 0.05555555555555555, '//': 0.05555555555555555, 'en': 0.05555555555555555, 'wikipedia': 0.05555555555555555, 'org/': 0.05555555555555555, 'wiki': 0.05555555555555555, 'Bitwise_operation': 0.05555555555555555, 'performed': 0.05555555555555555, 'number': 0.05555555555555555, 'times': 0.05555555555555555, 'example': 0.05555555555555555, 'n=5': 0.05555555555555555, 'array': 0.1111111111111111, 'a_1': 0.1111111111111111, 'a_2': 0.16666666666666666, 'a_3': 0.16666666666666666, 'a_4': 0.16666666666666666, 'a_5': 0.16666666666666666, 'selects': 0.05555555555555555, '2': 0.05555555555555555, '5': 0.05555555555555555, 'new': 0.05555555555555555, 'wants': 0.05555555555555555, 'minimize': 0.05555555555555555, 'maximum': 0.05555555555555555, 'value': 0.05555555555555555, 'best': 0.05555555555555555, 'friend': 0.05555555555555555, 'help': 0.05555555555555555, 'answer': 0.05555555555555555}\n"
          ]
        }
      ]
    },
    {
      "cell_type": "code",
      "source": [
        "sent_score={}\n",
        "sent_tokens=[sent for sent in doc.sents]\n",
        "print(sent_tokens)"
      ],
      "metadata": {
        "colab": {
          "base_uri": "https://localhost:8080/"
        },
        "id": "7sVSbmk4Haip",
        "outputId": "e5f44e40-3a04-4856-a516-b366da29e9c7"
      },
      "execution_count": null,
      "outputs": [
        {
          "output_type": "stream",
          "name": "stdout",
          "text": [
            "[Mocha is a young girl from high school ., She has\n",
            " learned so much interesting knowledge from her\n",
            " teachers , especially her math teacher ., Recently ,\n",
            " Mocha is learning about binary system and very\n",
            " interested in bitwise operation ., \n",
            " This day , Mocha got a sequence a of length n., In each\n",
            " operation , she can select an arbitrary interval [l,\n",
            " r] and for all values i (0 <= i <= r-l), replace a_{l+\n",
            " i} with a_{l+i} \\& a_{r-i} at the same time , where\n",
            " \\& denotes the [ bitwise AND operation ]( https :// en.\n",
            " wikipedia ., org/ wiki / Bitwise_operation # AND )., This\n",
            " operation can be performed any number of times ., \n",
            " For example , if n=5, the array is [a_1 ,a_2 ,a_3 ,a_4 ,\n",
            " a_5 ], and Mocha selects the interval [2 ,5] , then the\n",
            " new array is [a_1 , a_2 \\& a_5 , a_3 \\& a_4 , a_4 \\&\n",
            " a_3 , a_5 \\& a_2 ]., \n",
            " Now Mocha wants to minimize the maximum value in the\n",
            " sequence ., As her best friend , can you help her to get\n",
            " the answer ?]\n"
          ]
        }
      ]
    },
    {
      "cell_type": "code",
      "source": [
        "for sent in sent_tokens:\n",
        "   for word in sent:\n",
        "     if word.text.lower() in word_freq.keys():\n",
        "       if sent not in sent_score.keys():\n",
        "         sent_score[sent]=word_freq[word.text.lower()]\n",
        "       else:\n",
        "         sent_score[sent]+= word_freq[word.text.lower()] \n",
        "print(sent_score)"
      ],
      "metadata": {
        "colab": {
          "base_uri": "https://localhost:8080/"
        },
        "id": "VxCQFzwjHfwA",
        "outputId": "46ccc312-3845-478e-bfc3-4a1479b173ce"
      },
      "execution_count": null,
      "outputs": [
        {
          "output_type": "stream",
          "name": "stdout",
          "text": [
            "{Mocha is a young girl from high school .: 0.2222222222222222, She has\n",
            " learned so much interesting knowledge from her\n",
            " teachers , especially her math teacher .: 2.3888888888888884, Recently ,\n",
            " Mocha is learning about binary system and very\n",
            " interested in bitwise operation .: 2.555555555555556, \n",
            " This day , Mocha got a sequence a of length n.: 1.3333333333333335, In each\n",
            " operation , she can select an arbitrary interval [l,\n",
            " r] and for all values i (0 <= i <= r-l), replace a_{l+\n",
            " i} with a_{l+i} \\& a_{r-i} at the same time , where\n",
            " \\& denotes the [ bitwise AND operation ]( https :// en.\n",
            " wikipedia .: 6.888888888888887, org/ wiki / Bitwise_operation # AND ).: 0.1111111111111111, This\n",
            " operation can be performed any number of times .: 1.388888888888889, \n",
            " For example , if n=5, the array is [a_1 ,a_2 ,a_3 ,a_4 ,\n",
            " a_5 ], and Mocha selects the interval [2 ,5] , then the\n",
            " new array is [a_1 , a_2 \\& a_5 , a_3 \\& a_4 , a_4 \\&\n",
            " a_3 , a_5 \\& a_2 ].: 6.88888888888889, \n",
            " Now Mocha wants to minimize the maximum value in the\n",
            " sequence .: 2.3333333333333335, As her best friend , can you help her to get\n",
            " the answer ?: 1.2222222222222223}\n"
          ]
        }
      ]
    },
    {
      "cell_type": "code",
      "source": [
        "from heapq import nlargest\n",
        "len(sent_score) *0.3"
      ],
      "metadata": {
        "colab": {
          "base_uri": "https://localhost:8080/"
        },
        "id": "nSL9Ee4lHlsT",
        "outputId": "d3bb4118-e2d2-4605-e2d0-4a675013c49d"
      },
      "execution_count": null,
      "outputs": [
        {
          "output_type": "execute_result",
          "data": {
            "text/plain": [
              "3.0"
            ]
          },
          "metadata": {},
          "execution_count": 125
        }
      ]
    },
    {
      "cell_type": "code",
      "source": [
        "summary=nlargest(n=13,iterable=sent_score,key=sent_score.get) \n",
        "print(summary)"
      ],
      "metadata": {
        "colab": {
          "base_uri": "https://localhost:8080/"
        },
        "id": "cc_8HJE6Hnx4",
        "outputId": "5416e992-845f-4a90-9589-9bce07788c22"
      },
      "execution_count": null,
      "outputs": [
        {
          "output_type": "stream",
          "name": "stdout",
          "text": [
            "[\n",
            " For example , if n=5, the array is [a_1 ,a_2 ,a_3 ,a_4 ,\n",
            " a_5 ], and Mocha selects the interval [2 ,5] , then the\n",
            " new array is [a_1 , a_2 \\& a_5 , a_3 \\& a_4 , a_4 \\&\n",
            " a_3 , a_5 \\& a_2 ]., In each\n",
            " operation , she can select an arbitrary interval [l,\n",
            " r] and for all values i (0 <= i <= r-l), replace a_{l+\n",
            " i} with a_{l+i} \\& a_{r-i} at the same time , where\n",
            " \\& denotes the [ bitwise AND operation ]( https :// en.\n",
            " wikipedia ., Recently ,\n",
            " Mocha is learning about binary system and very\n",
            " interested in bitwise operation ., She has\n",
            " learned so much interesting knowledge from her\n",
            " teachers , especially her math teacher ., \n",
            " Now Mocha wants to minimize the maximum value in the\n",
            " sequence ., This\n",
            " operation can be performed any number of times ., \n",
            " This day , Mocha got a sequence a of length n., As her best friend , can you help her to get\n",
            " the answer ?, Mocha is a young girl from high school ., org/ wiki / Bitwise_operation # AND ).]\n"
          ]
        }
      ]
    },
    {
      "cell_type": "code",
      "source": [
        "final_summary=[word.text for word in summary]\n",
        "final_summary"
      ],
      "metadata": {
        "colab": {
          "base_uri": "https://localhost:8080/"
        },
        "id": "hXSm5_7VHtqg",
        "outputId": "6f2aedaa-2ca7-4cab-9d2c-4977d304f220"
      },
      "execution_count": null,
      "outputs": [
        {
          "output_type": "execute_result",
          "data": {
            "text/plain": [
              "['\\n For example , if n=5, the array is [a_1 ,a_2 ,a_3 ,a_4 ,\\n a_5 ], and Mocha selects the interval [2 ,5] , then the\\n new array is [a_1 , a_2 \\\\& a_5 , a_3 \\\\& a_4 , a_4 \\\\&\\n a_3 , a_5 \\\\& a_2 ].',\n",
              " 'In each\\n operation , she can select an arbitrary interval [l,\\n r] and for all values i (0 <= i <= r-l), replace a_{l+\\n i} with a_{l+i} \\\\& a_{r-i} at the same time , where\\n \\\\& denotes the [ bitwise AND operation ]( https :// en.\\n wikipedia .',\n",
              " 'Recently ,\\n Mocha is learning about binary system and very\\n interested in bitwise operation .',\n",
              " 'She has\\n learned so much interesting knowledge from her\\n teachers , especially her math teacher .',\n",
              " '\\n Now Mocha wants to minimize the maximum value in the\\n sequence .',\n",
              " 'This\\n operation can be performed any number of times .',\n",
              " '\\n This day , Mocha got a sequence a of length n.',\n",
              " 'As her best friend , can you help her to get\\n the answer ?',\n",
              " 'Mocha is a young girl from high school .',\n",
              " 'org/ wiki / Bitwise_operation # AND ).']"
            ]
          },
          "metadata": {},
          "execution_count": 127
        }
      ]
    },
    {
      "cell_type": "code",
      "source": [
        "import re"
      ],
      "metadata": {
        "id": "iTVsjUTFHwEA"
      },
      "execution_count": null,
      "outputs": []
    },
    {
      "cell_type": "code",
      "source": [
        "f1 = []\n",
        "for sub in final_summary:\n",
        "  f1.append(re.sub('n','',sub))\n",
        "print(f1)"
      ],
      "metadata": {
        "colab": {
          "base_uri": "https://localhost:8080/"
        },
        "id": "y7PULojTHxGw",
        "outputId": "ebf98e2e-dcd5-47d4-b1e3-73ae9a0440ba"
      },
      "execution_count": null,
      "outputs": [
        {
          "output_type": "stream",
          "name": "stdout",
          "text": [
            "['\\n For example , if =5, the array is [a_1 ,a_2 ,a_3 ,a_4 ,\\n a_5 ], ad Mocha selects the iterval [2 ,5] , the the\\n ew array is [a_1 , a_2 \\\\& a_5 , a_3 \\\\& a_4 , a_4 \\\\&\\n a_3 , a_5 \\\\& a_2 ].', 'I each\\n operatio , she ca select a arbitrary iterval [l,\\n r] ad for all values i (0 <= i <= r-l), replace a_{l+\\n i} with a_{l+i} \\\\& a_{r-i} at the same time , where\\n \\\\& deotes the [ bitwise AND operatio ]( https :// e.\\n wikipedia .', 'Recetly ,\\n Mocha is learig about biary system ad very\\n iterested i bitwise operatio .', 'She has\\n leared so much iterestig kowledge from her\\n teachers , especially her math teacher .', '\\n Now Mocha wats to miimize the maximum value i the\\n sequece .', 'This\\n operatio ca be performed ay umber of times .', '\\n This day , Mocha got a sequece a of legth .', 'As her best fried , ca you help her to get\\n the aswer ?', 'Mocha is a youg girl from high school .', 'org/ wiki / Bitwise_operatio # AND ).']\n"
          ]
        }
      ]
    },
    {
      "cell_type": "code",
      "source": [
        "f2 = \" \".join(f1)\n",
        "f2"
      ],
      "metadata": {
        "colab": {
          "base_uri": "https://localhost:8080/",
          "height": 73
        },
        "id": "kxtb894rH33Y",
        "outputId": "79b1bcb8-0fb8-4e26-c0b0-379a600bcbba"
      },
      "execution_count": null,
      "outputs": [
        {
          "output_type": "execute_result",
          "data": {
            "text/plain": [
              "'\\n For example , if =5, the array is [a_1 ,a_2 ,a_3 ,a_4 ,\\n a_5 ], ad Mocha selects the iterval [2 ,5] , the the\\n ew array is [a_1 , a_2 \\\\& a_5 , a_3 \\\\& a_4 , a_4 \\\\&\\n a_3 , a_5 \\\\& a_2 ]. I each\\n operatio , she ca select a arbitrary iterval [l,\\n r] ad for all values i (0 <= i <= r-l), replace a_{l+\\n i} with a_{l+i} \\\\& a_{r-i} at the same time , where\\n \\\\& deotes the [ bitwise AND operatio ]( https :// e.\\n wikipedia . Recetly ,\\n Mocha is learig about biary system ad very\\n iterested i bitwise operatio . She has\\n leared so much iterestig kowledge from her\\n teachers , especially her math teacher . \\n Now Mocha wats to miimize the maximum value i the\\n sequece . This\\n operatio ca be performed ay umber of times . \\n This day , Mocha got a sequece a of legth . As her best fried , ca you help her to get\\n the aswer ? Mocha is a youg girl from high school . org/ wiki / Bitwise_operatio # AND ).'"
            ],
            "application/vnd.google.colaboratory.intrinsic+json": {
              "type": "string"
            }
          },
          "metadata": {},
          "execution_count": 130
        }
      ]
    },
    {
      "cell_type": "code",
      "source": [
        "f3 = len(f2.split())\n",
        "\n",
        "print (\"The number of words in final summary is : \" +  str(f3))"
      ],
      "metadata": {
        "colab": {
          "base_uri": "https://localhost:8080/"
        },
        "id": "5JSuzy37H64c",
        "outputId": "e4c168b8-d472-408e-e611-04cf28e5a704"
      },
      "execution_count": null,
      "outputs": [
        {
          "output_type": "stream",
          "name": "stdout",
          "text": [
            "The number of words in final summary is : 188\n"
          ]
        }
      ]
    },
    {
      "cell_type": "code",
      "source": [
        "!pip install transformers"
      ],
      "metadata": {
        "colab": {
          "base_uri": "https://localhost:8080/"
        },
        "id": "q4ZYipPfH-MQ",
        "outputId": "58d330c4-f21c-49c4-b310-61e52a641f3f"
      },
      "execution_count": null,
      "outputs": [
        {
          "output_type": "stream",
          "name": "stdout",
          "text": [
            "Looking in indexes: https://pypi.org/simple, https://us-python.pkg.dev/colab-wheels/public/simple/\n",
            "Requirement already satisfied: transformers in /usr/local/lib/python3.7/dist-packages (4.20.1)\n",
            "Requirement already satisfied: filelock in /usr/local/lib/python3.7/dist-packages (from transformers) (3.7.1)\n",
            "Requirement already satisfied: tqdm>=4.27 in /usr/local/lib/python3.7/dist-packages (from transformers) (4.64.0)\n",
            "Requirement already satisfied: numpy>=1.17 in /usr/local/lib/python3.7/dist-packages (from transformers) (1.21.6)\n",
            "Requirement already satisfied: regex!=2019.12.17 in /usr/local/lib/python3.7/dist-packages (from transformers) (2022.6.2)\n",
            "Requirement already satisfied: importlib-metadata in /usr/local/lib/python3.7/dist-packages (from transformers) (4.11.4)\n",
            "Requirement already satisfied: tokenizers!=0.11.3,<0.13,>=0.11.1 in /usr/local/lib/python3.7/dist-packages (from transformers) (0.12.1)\n",
            "Requirement already satisfied: pyyaml>=5.1 in /usr/local/lib/python3.7/dist-packages (from transformers) (6.0)\n",
            "Requirement already satisfied: packaging>=20.0 in /usr/local/lib/python3.7/dist-packages (from transformers) (21.3)\n",
            "Requirement already satisfied: huggingface-hub<1.0,>=0.1.0 in /usr/local/lib/python3.7/dist-packages (from transformers) (0.8.1)\n",
            "Requirement already satisfied: requests in /usr/local/lib/python3.7/dist-packages (from transformers) (2.23.0)\n",
            "Requirement already satisfied: typing-extensions>=3.7.4.3 in /usr/local/lib/python3.7/dist-packages (from huggingface-hub<1.0,>=0.1.0->transformers) (4.1.1)\n",
            "Requirement already satisfied: pyparsing!=3.0.5,>=2.0.2 in /usr/local/lib/python3.7/dist-packages (from packaging>=20.0->transformers) (3.0.9)\n",
            "Requirement already satisfied: zipp>=0.5 in /usr/local/lib/python3.7/dist-packages (from importlib-metadata->transformers) (3.8.0)\n",
            "Requirement already satisfied: chardet<4,>=3.0.2 in /usr/local/lib/python3.7/dist-packages (from requests->transformers) (3.0.4)\n",
            "Requirement already satisfied: idna<3,>=2.5 in /usr/local/lib/python3.7/dist-packages (from requests->transformers) (2.10)\n",
            "Requirement already satisfied: certifi>=2017.4.17 in /usr/local/lib/python3.7/dist-packages (from requests->transformers) (2022.6.15)\n",
            "Requirement already satisfied: urllib3!=1.25.0,!=1.25.1,<1.26,>=1.21.1 in /usr/local/lib/python3.7/dist-packages (from requests->transformers) (1.24.3)\n"
          ]
        }
      ]
    },
    {
      "cell_type": "code",
      "source": [
        "import transformers"
      ],
      "metadata": {
        "id": "YRdz5NN8IBye"
      },
      "execution_count": null,
      "outputs": []
    },
    {
      "cell_type": "code",
      "source": [
        "#f = open('/content/drive/MyDrive/datasets/textfiles/sachin.txt','r',encoding='latin1')\n",
        "f = open('/content/drive/MyDrive/datasets/textfiles/mocha.txt','r',encoding='latin1')"
      ],
      "metadata": {
        "id": "WCp5UBMJIDAh"
      },
      "execution_count": null,
      "outputs": []
    },
    {
      "cell_type": "code",
      "source": [
        "to_tokenize = f.readlines()"
      ],
      "metadata": {
        "id": "3nny_yMdILk4"
      },
      "execution_count": null,
      "outputs": []
    },
    {
      "cell_type": "code",
      "source": [
        "from transformers import pipeline\n",
        "summarizer = pipeline(\"summarization\")"
      ],
      "metadata": {
        "colab": {
          "base_uri": "https://localhost:8080/"
        },
        "id": "1ExW7oIxINJi",
        "outputId": "26cbc821-96c9-4c2f-91d8-904369981759"
      },
      "execution_count": null,
      "outputs": [
        {
          "output_type": "stream",
          "name": "stderr",
          "text": [
            "No model was supplied, defaulted to sshleifer/distilbart-cnn-12-6 (https://huggingface.co/sshleifer/distilbart-cnn-12-6)\n"
          ]
        }
      ]
    },
    {
      "cell_type": "code",
      "source": [
        "summarized = summarizer(to_tokenize, min_length=75, max_length=300)"
      ],
      "metadata": {
        "colab": {
          "base_uri": "https://localhost:8080/"
        },
        "id": "8K7MYHU9I1HY",
        "outputId": "b68817ac-7f4a-4bb9-9af0-4f58921731f1"
      },
      "execution_count": null,
      "outputs": [
        {
          "output_type": "stream",
          "name": "stderr",
          "text": [
            "Your max_length is set to 300, but you input_length is only 15. You might consider decreasing max_length manually, e.g. summarizer('...', max_length=7)\n",
            "Your max_length is set to 300, but you input_length is only 10. You might consider decreasing max_length manually, e.g. summarizer('...', max_length=5)\n",
            "Your max_length is set to 300, but you input_length is only 12. You might consider decreasing max_length manually, e.g. summarizer('...', max_length=6)\n",
            "Your max_length is set to 300, but you input_length is only 12. You might consider decreasing max_length manually, e.g. summarizer('...', max_length=6)\n",
            "Your max_length is set to 300, but you input_length is only 9. You might consider decreasing max_length manually, e.g. summarizer('...', max_length=4)\n",
            "Your max_length is set to 300, but you input_length is only 18. You might consider decreasing max_length manually, e.g. summarizer('...', max_length=9)\n",
            "Your max_length is set to 300, but you input_length is only 14. You might consider decreasing max_length manually, e.g. summarizer('...', max_length=7)\n",
            "Your max_length is set to 300, but you input_length is only 24. You might consider decreasing max_length manually, e.g. summarizer('...', max_length=12)\n",
            "Your max_length is set to 300, but you input_length is only 26. You might consider decreasing max_length manually, e.g. summarizer('...', max_length=13)\n",
            "Your max_length is set to 300, but you input_length is only 19. You might consider decreasing max_length manually, e.g. summarizer('...', max_length=9)\n",
            "Your max_length is set to 300, but you input_length is only 18. You might consider decreasing max_length manually, e.g. summarizer('...', max_length=9)\n",
            "Your max_length is set to 300, but you input_length is only 12. You might consider decreasing max_length manually, e.g. summarizer('...', max_length=6)\n",
            "Your max_length is set to 300, but you input_length is only 31. You might consider decreasing max_length manually, e.g. summarizer('...', max_length=15)\n",
            "Your max_length is set to 300, but you input_length is only 21. You might consider decreasing max_length manually, e.g. summarizer('...', max_length=10)\n",
            "Your max_length is set to 300, but you input_length is only 34. You might consider decreasing max_length manually, e.g. summarizer('...', max_length=17)\n",
            "Your max_length is set to 300, but you input_length is only 16. You might consider decreasing max_length manually, e.g. summarizer('...', max_length=8)\n",
            "Your max_length is set to 300, but you input_length is only 14. You might consider decreasing max_length manually, e.g. summarizer('...', max_length=7)\n",
            "Your max_length is set to 300, but you input_length is only 16. You might consider decreasing max_length manually, e.g. summarizer('...', max_length=8)\n",
            "Your max_length is set to 300, but you input_length is only 5. You might consider decreasing max_length manually, e.g. summarizer('...', max_length=2)\n"
          ]
        }
      ]
    },
    {
      "cell_type": "code",
      "source": [
        "print(summarized)"
      ],
      "metadata": {
        "colab": {
          "base_uri": "https://localhost:8080/"
        },
        "id": "xe8kfb1SI_Qm",
        "outputId": "0ad33596-114a-4895-91c9-99b1fe128172"
      },
      "execution_count": null,
      "outputs": [
        {
          "output_type": "stream",
          "name": "stdout",
          "text": [
            "[{'summary_text': ' Mocha is a young girl from high school . Mocha has been in the news for more than a year . She has appeared in the documentary \"Mocha\" Mocha was born Mocha, a girl from a high school in New York City, New York, New Jersey . She is a junior at a local high school and has a daughter in the same high school as Mocha .'}, {'summary_text': ' \"I learned so much interesting knowledge from her,\" she said. \"I\\'m so happy to be able to learn so much from her knowledge of the world,\" she added. \"It\\'s a great thing to learn about the world\\'s most interesting things,\" she wrote. \"The world\\'s oldest woman is so proud of her heritage that she is able to speak to her family and friends.\"'}, {'summary_text': \" Recently, she has been in touch with some of the world's most famous teachers, including her math teacher . Recently she was in a relationship with one of her teachers . She is now in contact with many of her favorite teachers, especially math teachers, and her mother . She says she is looking forward to seeing her daughter in a new school . She hopes to see her career as a success in the next year .\"}, {'summary_text': ' Mocha is learning about binary system and very much more . Mocha learns about binary systems and very good at reading. Mocha\\'s new book is being published in the U.S. Library of Science Fiction . The book, \"Mocha,\" is published in New York, New York and Washington, DC, USA, 2014. Mocha\\'s book is published by New York-based science fiction publisher Dr. Edward Norton, Jr.'}, {'summary_text': ' Interested in bitwise operation? Please contact us at http://www.bitwise.org/ for more information . Please email us at bitwise@mailonline.co.uk . Back to the page you came from .com/news/newsnews . Share your photos with us at iReport.com or tweet them to show us what you want to see.com .'}, {'summary_text': \" Mocha got a sequence a of length n. This day is Mocha's birthday . Mocha has a sequence of n. In each of these days, Mocha gets a sequence n. A sequence is of length length n . This day Mocha is celebrating her birthday with a series of pictures . Moacha is celebrating the birth of her first birthday with her favorite photo .\"}, {'summary_text': ' She can select an arbitrary interval [l, l, l or l] for an arbitrary operation . The interval is an arbitrary function that can be used to select a length of an interval . She can then select the length of the interval she selects an arbitrary number of times . She selects the length and length of a given interval in order to select the number she chooses an arbitrary length .'}, {'summary_text': ' For all values i (0 <= i <= r-l), replace a_{l+ a. r] with a_{r-l, replace a_l+ r for all values r-r . For i (i (0) <= i) and for i (R-l) <= r (i) < r (r) is r (R) + r (L) is l (r), r is r, r is a (r is a) or r is (r, l is a(r) + l is r; l is 1 (r = r) and r is 2 (r + r)'}, {'summary_text': ' i} with a_{l+i} \\\\& a_{r-i} at the same time , where a. l+i + a. i is a . with a . l + i + a . r-i is a function of a l +i + l + a r + l+ i + i at the . same time, where a .l +i+ l + l l + r+ l+ l l y y y r + y y + l y . y y . i i + y + y .'}, {'summary_text': ' \\\\& denotes the [ bitwise AND operation ]( ... & denotes the bitwise . AND operation )( : // en. en . en.html)()()() is a bitwise and bitwise operation . The operation is bitwise-and-bitwise . It is the first time the operation has been allowed to be used in this type of operation .'}, {'summary_text': ' This article includes a link to the Bitwise operation (http://www.wikwik.wik.org/ wiki/ wiki / / Bitwise_operation # AND AND ). This article is a direct link between the operation and the operation of Bitwise . It is also a link between Bitwise and Bitwise.org ( http://wik.com/wiki/wik-brief-operation/bitwise-operation . http://://wik/wik/btwice-btwistle-operation\\xa0and\\xa0bitwise_operations .'}, {'summary_text': ' The operation can be performed any number of times . Operation can be repeated at least a few times . The operation is performed at a number of different locations in the U.S. operation . Operation is called a \"surprise\" and a \"miracle\" operation can take place at a given location . Operation: A single operation can perform a single operation at a single location .'}, {'summary_text': ' If n=5, the array is [a_1 ,a_2,a_3 ,a .3 , a_4, a_5, a .5 , a .1 is a n-array . If n =5, n-1 is an array of n-5 with n-2 is a . array of 5 . The array is a single array with n n-3 .'}, {'summary_text': ' Mocha selects the interval [2 ,5] and Mocha select the interval . a_5 , then the interval is [2 -5] If Mocha selected the interval, the interval was [2-5] Mocha chose the interval between 2 and 5 . Mocha then selects an interval between [2 and 5, then selects [2,5] a__5]. Mocha chooses the interval in which the interval occurs .'}, {'summary_text': ' New array is [a_1 , a_2, a_5, a .5 , a .3 and a_3 , a.4, a.5 and a .4 are arrays . array is a new array of arrays with a new name: a . new array: a_1 . array . array: [a .1, a_.1, . a .1 , . a.2, . . a_4, . 1 . array : [a.1, ... a .2, [ a.3, [ [ a__1 ]], . a5, . (a.5) and a.6) array:'}, {'summary_text': ' a_3 , a_5 \\\\& a_2 . a_4 is a function of a function . a.4 . a .5 is the function of the function. a .4 . The function is the result of a 5-5 vote for a . 5-7 vote for the function . A .5 vote is the first time a . 4 vote has been allowed to vote in the past .'}, {'summary_text': \" Mocha wants to minimize the maximum value in the game . Mocha says she wants to make sure she doesn't get the maximum amount in a game . She says Mocha is trying to make the best use of the game to maximize the value in her game . The game is now being played by Mocha in a race for the first time in a decade .\"}, {'summary_text': ' As her best friend , can you help her help her get to get to the top of the list? Please email us at: http://www.mailonline.com/help-your-best-friend-in-a-list . sequence . sequence. sequence. As her friend, help her to get on the list of her best friends . sequence sequence .'}, {'summary_text': \" The answer to the question is to find out what is the real answer? What do you have the answer to that question? What's the real question? Find out! Share your own story with iReport@dailymailonline.com . Back to Mail Online home . Please submit your story for next week for a new gallery of photos . Visit CNN.com/Travel next Wednesday for a gallery of snapshots .\"}]\n"
          ]
        }
      ]
    },
    {
      "cell_type": "code",
      "source": [
        "summ=' '.join([str(i) for i in summarized])"
      ],
      "metadata": {
        "id": "JBPaGjuYJGm4"
      },
      "execution_count": null,
      "outputs": []
    },
    {
      "cell_type": "code",
      "source": [
        "summ=summ.replace(\"{\",\"\")"
      ],
      "metadata": {
        "id": "3N3-zIUAJIeS"
      },
      "execution_count": null,
      "outputs": []
    },
    {
      "cell_type": "code",
      "source": [
        "summ=summ.replace(\"''\",\"\")"
      ],
      "metadata": {
        "id": "-7F_LEMOJJge"
      },
      "execution_count": null,
      "outputs": []
    },
    {
      "cell_type": "code",
      "source": [
        "summ=summ.replace(\"\\x92\",\"\")"
      ],
      "metadata": {
        "id": "S7i7ybpQJKJk"
      },
      "execution_count": null,
      "outputs": []
    },
    {
      "cell_type": "code",
      "source": [
        "summ"
      ],
      "metadata": {
        "colab": {
          "base_uri": "https://localhost:8080/"
        },
        "id": "dSFjiOLAJLdU",
        "outputId": "afe81d2c-97a2-49e2-c08d-c1a056ebe5b1"
      },
      "execution_count": null,
      "outputs": [
        {
          "output_type": "execute_result",
          "data": {
            "text/plain": [
              "'\\'summary_text\\': \\' Mocha is a young girl from high school . Mocha has been in the news for more than a year . She has appeared in the documentary \"Mocha\" Mocha was born Mocha, a girl from a high school in New York City, New York, New Jersey . She is a junior at a local high school and has a daughter in the same high school as Mocha .\\'} \\'summary_text\\': \\' \"I learned so much interesting knowledge from her,\" she said. \"I\\\\\\'m so happy to be able to learn so much from her knowledge of the world,\" she added. \"It\\\\\\'s a great thing to learn about the world\\\\\\'s most interesting things,\" she wrote. \"The world\\\\\\'s oldest woman is so proud of her heritage that she is able to speak to her family and friends.\"\\'} \\'summary_text\\': \" Recently, she has been in touch with some of the world\\'s most famous teachers, including her math teacher . Recently she was in a relationship with one of her teachers . She is now in contact with many of her favorite teachers, especially math teachers, and her mother . She says she is looking forward to seeing her daughter in a new school . She hopes to see her career as a success in the next year .\"} \\'summary_text\\': \\' Mocha is learning about binary system and very much more . Mocha learns about binary systems and very good at reading. Mocha\\\\\\'s new book is being published in the U.S. Library of Science Fiction . The book, \"Mocha,\" is published in New York, New York and Washington, DC, USA, 2014. Mocha\\\\\\'s book is published by New York-based science fiction publisher Dr. Edward Norton, Jr.\\'} \\'summary_text\\': \\' Interested in bitwise operation? Please contact us at http://www.bitwise.org/ for more information . Please email us at bitwise@mailonline.co.uk . Back to the page you came from .com/news/newsnews . Share your photos with us at iReport.com or tweet them to show us what you want to see.com .\\'} \\'summary_text\\': \" Mocha got a sequence a of length n. This day is Mocha\\'s birthday . Mocha has a sequence of n. In each of these days, Mocha gets a sequence n. A sequence is of length length n . This day Mocha is celebrating her birthday with a series of pictures . Moacha is celebrating the birth of her first birthday with her favorite photo .\"} \\'summary_text\\': \\' She can select an arbitrary interval [l, l, l or l] for an arbitrary operation . The interval is an arbitrary function that can be used to select a length of an interval . She can then select the length of the interval she selects an arbitrary number of times . She selects the length and length of a given interval in order to select the number she chooses an arbitrary length .\\'} \\'summary_text\\': \\' For all values i (0 <= i <= r-l), replace a_l+ a. r] with a_r-l, replace a_l+ r for all values r-r . For i (i (0) <= i) and for i (R-l) <= r (i) < r (r) is r (R) + r (L) is l (r), r is r, r is a (r is a) or r is (r, l is a(r) + l is r; l is 1 (r = r) and r is 2 (r + r)\\'} \\'summary_text\\': \\' i} with a_l+i} \\\\\\\\& a_r-i} at the same time , where a. l+i + a. i is a . with a . l + i + a . r-i is a function of a l +i + l + a r + l+ i + i at the . same time, where a .l +i+ l + l l + r+ l+ l l y y y r + y y + l y . y y . i i + y + y .\\'} \\'summary_text\\': \\' \\\\\\\\& denotes the [ bitwise AND operation ]( ... & denotes the bitwise . AND operation )( : // en. en . en.html)()()() is a bitwise and bitwise operation . The operation is bitwise-and-bitwise . It is the first time the operation has been allowed to be used in this type of operation .\\'} \\'summary_text\\': \\' This article includes a link to the Bitwise operation (http://www.wikwik.wik.org/ wiki/ wiki / / Bitwise_operation # AND AND ). This article is a direct link between the operation and the operation of Bitwise . It is also a link between Bitwise and Bitwise.org ( http://wik.com/wiki/wik-brief-operation/bitwise-operation . http://://wik/wik/btwice-btwistle-operation\\\\xa0and\\\\xa0bitwise_operations .\\'} \\'summary_text\\': \\' The operation can be performed any number of times . Operation can be repeated at least a few times . The operation is performed at a number of different locations in the U.S. operation . Operation is called a \"surprise\" and a \"miracle\" operation can take place at a given location . Operation: A single operation can perform a single operation at a single location .\\'} \\'summary_text\\': \\' If n=5, the array is [a_1 ,a_2,a_3 ,a .3 , a_4, a_5, a .5 , a .1 is a n-array . If n =5, n-1 is an array of n-5 with n-2 is a . array of 5 . The array is a single array with n n-3 .\\'} \\'summary_text\\': \\' Mocha selects the interval [2 ,5] and Mocha select the interval . a_5 , then the interval is [2 -5] If Mocha selected the interval, the interval was [2-5] Mocha chose the interval between 2 and 5 . Mocha then selects an interval between [2 and 5, then selects [2,5] a__5]. Mocha chooses the interval in which the interval occurs .\\'} \\'summary_text\\': \\' New array is [a_1 , a_2, a_5, a .5 , a .3 and a_3 , a.4, a.5 and a .4 are arrays . array is a new array of arrays with a new name: a . new array: a_1 . array . array: [a .1, a_.1, . a .1 , . a.2, . . a_4, . 1 . array : [a.1, ... a .2, [ a.3, [ [ a__1 ]], . a5, . (a.5) and a.6) array:\\'} \\'summary_text\\': \\' a_3 , a_5 \\\\\\\\& a_2 . a_4 is a function of a function . a.4 . a .5 is the function of the function. a .4 . The function is the result of a 5-5 vote for a . 5-7 vote for the function . A .5 vote is the first time a . 4 vote has been allowed to vote in the past .\\'} \\'summary_text\\': \" Mocha wants to minimize the maximum value in the game . Mocha says she wants to make sure she doesn\\'t get the maximum amount in a game . She says Mocha is trying to make the best use of the game to maximize the value in her game . The game is now being played by Mocha in a race for the first time in a decade .\"} \\'summary_text\\': \\' As her best friend , can you help her help her get to get to the top of the list? Please email us at: http://www.mailonline.com/help-your-best-friend-in-a-list . sequence . sequence. sequence. As her friend, help her to get on the list of her best friends . sequence sequence .\\'} \\'summary_text\\': \" The answer to the question is to find out what is the real answer? What do you have the answer to that question? What\\'s the real question? Find out! Share your own story with iReport@dailymailonline.com . Back to Mail Online home . Please submit your story for next week for a new gallery of photos . Visit CNN.com/Travel next Wednesday for a gallery of snapshots .\"}'"
            ],
            "application/vnd.google.colaboratory.intrinsic+json": {
              "type": "string"
            }
          },
          "metadata": {},
          "execution_count": 143
        }
      ]
    },
    {
      "cell_type": "code",
      "source": [
        "summ1=len(summ.split())"
      ],
      "metadata": {
        "id": "r8PYNfhRJS9Y"
      },
      "execution_count": null,
      "outputs": []
    },
    {
      "cell_type": "code",
      "source": [
        "print(\" The no. of words in the summarization is :\" +str(summ1))"
      ],
      "metadata": {
        "colab": {
          "base_uri": "https://localhost:8080/"
        },
        "id": "aG0DFSKqJUQO",
        "outputId": "2473a429-a204-482d-a91e-99753995be93"
      },
      "execution_count": null,
      "outputs": [
        {
          "output_type": "stream",
          "name": "stdout",
          "text": [
            " The no. of words in the summarization is :1264\n"
          ]
        }
      ]
    },
    {
      "cell_type": "code",
      "source": [
        "from nltk.corpus import stopwords\n",
        "from nltk.cluster.util import cosine_distance\n",
        "import numpy as np\n",
        "import networkx as nx"
      ],
      "metadata": {
        "id": "1b5ul3ygJe0P"
      },
      "execution_count": null,
      "outputs": []
    },
    {
      "cell_type": "code",
      "source": [
        "def read_article(file_name):\n",
        "    file = open(file_name, \"r\")\n",
        "    filedata = file.readlines()\n",
        "    article = filedata[0].split(\". \")\n",
        "    sentences = []\n",
        "    for sentence in article:\n",
        "        print(sentence)\n",
        "        sentences.append(sentence.replace(\"[^a-zA-Z]\", \" \").split(\" \"))\n",
        "        sentences.pop()\n",
        "    return sentences"
      ],
      "metadata": {
        "id": "d-AoQgPPJjTl"
      },
      "execution_count": null,
      "outputs": []
    },
    {
      "cell_type": "code",
      "source": [
        "def build_similarity_matrix(sentences, stop_words):\n",
        "    similarity_matrix = np.zeros((len(sentences), len(sentences)))\n",
        "    for idx1 in range(len(sentences)):\n",
        "        for idx2 in range(len(sentences)):\n",
        "            if idx1 == idx2: #ignore if both are same sentences\n",
        "                continue\n",
        "            similarity_matrix[idx1][idx2] = sentence_similarity(sentences[idx1], sentences[idx2], stop_words)\n",
        "    return similarity_matrix"
      ],
      "metadata": {
        "id": "yQ48wbvCJrDu"
      },
      "execution_count": null,
      "outputs": []
    },
    {
      "cell_type": "code",
      "source": [
        "import nltk\n",
        "nltk.download('stopwords')\n",
        "stop_words = stopwords.words('english')\n",
        "summarize_text = []"
      ],
      "metadata": {
        "colab": {
          "base_uri": "https://localhost:8080/"
        },
        "id": "KGiOG-LiJ05T",
        "outputId": "2a8485a3-dd2e-4061-8a60-63b277658dd7"
      },
      "execution_count": null,
      "outputs": [
        {
          "output_type": "stream",
          "name": "stderr",
          "text": [
            "[nltk_data] Downloading package stopwords to /root/nltk_data...\n",
            "[nltk_data]   Package stopwords is already up-to-date!\n"
          ]
        }
      ]
    },
    {
      "cell_type": "code",
      "source": [
        "#sentences = read_article(file_name)"
      ],
      "metadata": {
        "id": "oAv5M8b_J2tL"
      },
      "execution_count": null,
      "outputs": []
    },
    {
      "cell_type": "code",
      "source": [
        "#sentence_similarity_martix = build_similarity_matrix(sentences, stop_words)"
      ],
      "metadata": {
        "id": "GjM9H8uDJ33q"
      },
      "execution_count": null,
      "outputs": []
    },
    {
      "cell_type": "code",
      "source": [
        "#sentence_similarity_graph = nx.from_numpy_array(sentence_similarity_martix)\n",
        "#scores = nx.pagerank(sentence_similarity_graph)"
      ],
      "metadata": {
        "id": "ZSpOhUS1J4tx"
      },
      "execution_count": null,
      "outputs": []
    },
    {
      "cell_type": "code",
      "source": [
        "#ranked_sentence = sorted(((scores[i],s) for i,s in enumerate(sentences)), reverse=True)\n",
        "#print(\"Indexes of top ranked_sentence order are \", ranked_sentence)for i in range(top_n):\n",
        "#summarize_text.append(\" \".join(ranked_sentence[i][1]))"
      ],
      "metadata": {
        "id": "P_YEr1GNJ6Un"
      },
      "execution_count": null,
      "outputs": []
    },
    {
      "cell_type": "code",
      "source": [
        "#print(\"Summarize Text: n\", \". \".join(summarize_text))\n",
        "#generate_summary( \"/content/drive/MyDrive/Text.txt\",5)"
      ],
      "metadata": {
        "id": "7AYQwgipJ71x"
      },
      "execution_count": null,
      "outputs": []
    }
  ]
}